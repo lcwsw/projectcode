{
 "cells": [
  {
   "cell_type": "code",
   "execution_count": 1,
   "id": "400228b9",
   "metadata": {},
   "outputs": [
    {
     "name": "stdout",
     "output_type": "stream",
     "text": [
      "\u001b[33mDEPRECATION: Loading egg at /Users/ching/miniconda3/envs/myenv/lib/python3.11/site-packages/huggingface_hub-0.19.0-py3.8.egg is deprecated. pip 24.3 will enforce this behaviour change. A possible replacement is to use pip for package installation.. Discussion can be found at https://github.com/pypa/pip/issues/12330\u001b[0m\u001b[33m\r\n",
      "\u001b[0mRequirement already satisfied: nltk in /Users/ching/miniconda3/envs/myenv/lib/python3.11/site-packages (3.8.1)\r\n",
      "Requirement already satisfied: click in /Users/ching/miniconda3/envs/myenv/lib/python3.11/site-packages (from nltk) (8.1.7)\r\n",
      "Requirement already satisfied: joblib in /Users/ching/miniconda3/envs/myenv/lib/python3.11/site-packages (from nltk) (1.3.2)\r\n",
      "Requirement already satisfied: regex>=2021.8.3 in /Users/ching/miniconda3/envs/myenv/lib/python3.11/site-packages (from nltk) (2023.10.3)\r\n",
      "Requirement already satisfied: tqdm in /Users/ching/miniconda3/envs/myenv/lib/python3.11/site-packages (from nltk) (4.65.0)\r\n"
     ]
    }
   ],
   "source": [
    "!pip install nltk"
   ]
  },
  {
   "cell_type": "code",
   "execution_count": 2,
   "id": "f94a77da",
   "metadata": {},
   "outputs": [
    {
     "name": "stderr",
     "output_type": "stream",
     "text": [
      "[nltk_data] Downloading package punkt to /Users/ching/nltk_data...\n",
      "[nltk_data]   Package punkt is already up-to-date!\n",
      "[nltk_data] Downloading package stopwords to /Users/ching/nltk_data...\n",
      "[nltk_data]   Package stopwords is already up-to-date!\n"
     ]
    },
    {
     "data": {
      "text/plain": [
       "True"
      ]
     },
     "execution_count": 2,
     "metadata": {},
     "output_type": "execute_result"
    }
   ],
   "source": [
    "import nltk\n",
    "nltk.download('punkt')\n",
    "nltk.download('stopwords')"
   ]
  },
  {
   "cell_type": "markdown",
   "id": "f596babb",
   "metadata": {},
   "source": [
    "## Excluding Stopwords"
   ]
  },
  {
   "cell_type": "code",
   "execution_count": 3,
   "id": "c9318cc9",
   "metadata": {},
   "outputs": [
    {
     "name": "stdout",
     "output_type": "stream",
     "text": [
      "Top Positive Keywords:\n",
      "stars: 200\n",
      "great: 109\n",
      "phone: 100\n",
      "good: 83\n",
      "sound: 82\n",
      "speaker: 70\n",
      "gift: 64\n",
      "use: 48\n",
      "works: 46\n",
      "stand: 41\n",
      "\n",
      "Top Negative Keywords:\n",
      "stars: 137\n",
      "phone: 53\n",
      "sound: 43\n",
      "speaker: 37\n",
      "work: 30\n",
      "working: 30\n",
      "would: 26\n",
      "money: 24\n",
      "stopped: 24\n",
      "use: 22\n"
     ]
    }
   ],
   "source": [
    "import pandas as pd\n",
    "from nltk.tokenize import word_tokenize\n",
    "from nltk.corpus import stopwords\n",
    "from collections import Counter\n",
    "\n",
    "# Load the CSV file\n",
    "file_path = \"1_sentiment_analysis_results_processed_less.csv\"\n",
    "df = pd.read_csv(file_path)\n",
    "\n",
    "# Filter positive and negative reviews\n",
    "positive_reviews = df[df['Sentiment_Label'] > 2]['Preprocessed_Body']\n",
    "negative_reviews = df[df['Sentiment_Label'] < 2]['Preprocessed_Body']\n",
    "\n",
    "# Tokenization and stopwords removal\n",
    "def process_reviews(reviews):\n",
    "    tokens = [word.lower() for review in reviews for word in word_tokenize(str(review)) if word.isalpha()]\n",
    "    filtered_tokens = [word for word in tokens if word not in stopwords.words('english')]\n",
    "    return filtered_tokens\n",
    "\n",
    "# Process positive and negative reviews\n",
    "positive_tokens = process_reviews(positive_reviews)\n",
    "negative_tokens = process_reviews(negative_reviews)\n",
    "\n",
    "# Frequency analysis\n",
    "positive_freq = Counter(positive_tokens)\n",
    "negative_freq = Counter(negative_tokens)\n",
    "\n",
    "# Identify top keywords\n",
    "top_positive_keywords = positive_freq.most_common(10)\n",
    "top_negative_keywords = negative_freq.most_common(10)\n",
    "\n",
    "# Print Top Keywords\n",
    "print(\"Top Positive Keywords:\")\n",
    "for keyword, frequency in top_positive_keywords:\n",
    "    print(f\"{keyword}: {frequency}\")\n",
    "\n",
    "print(\"\\nTop Negative Keywords:\")\n",
    "for keyword, frequency in top_negative_keywords:\n",
    "    print(f\"{keyword}: {frequency}\")\n"
   ]
  },
  {
   "cell_type": "code",
   "execution_count": 4,
   "id": "384b016e",
   "metadata": {
    "scrolled": true
   },
   "outputs": [
    {
     "name": "stdout",
     "output_type": "stream",
     "text": [
      "Top Positive Keywords:\n",
      "('stars', 'great'): 34\n",
      "('stars', 'good'): 22\n",
      "('sound', 'quality'): 18\n",
      "('good', 'sound'): 15\n",
      "('works', 'great'): 13\n",
      "('great', 'sound'): 13\n",
      "('stars', 'works'): 12\n",
      "('works', 'well'): 12\n",
      "('easy', 'use'): 11\n",
      "('battery', 'life'): 11\n",
      "\n",
      "Top Negative Keywords:\n",
      "('stopped', 'working'): 19\n",
      "('money', 'stars'): 11\n",
      "('waste', 'money'): 11\n",
      "('sound', 'quality'): 8\n",
      "('phone', 'stand'): 7\n",
      "('stars', 'stopped'): 7\n",
      "('stars', 'broke'): 7\n",
      "('stars', 'sound'): 6\n",
      "('working', 'months'): 6\n",
      "('stars', 'work'): 5\n"
     ]
    }
   ],
   "source": [
    "from nltk.util import ngrams\n",
    "from nltk.corpus import stopwords\n",
    "from collections import Counter\n",
    "\n",
    "# Function to process reviews\n",
    "def process_reviews(reviews, n=1):\n",
    "    tokens = [word.lower() for review in reviews for word in word_tokenize(str(review)) if word.isalpha()]\n",
    "    filtered_tokens = [word for word in tokens if word not in stopwords.words('english')]\n",
    "    n_grams = list(ngrams(filtered_tokens, n))\n",
    "    return n_grams\n",
    "\n",
    "# Process positive and negative reviews\n",
    "positive_tokens = process_reviews(positive_reviews, n=2)  # Change n to the desired n-gram size\n",
    "negative_tokens = process_reviews(negative_reviews, n=2)  # Change n to the desired n-gram size\n",
    "\n",
    "# Frequency analysis\n",
    "positive_freq = Counter(positive_tokens)\n",
    "negative_freq = Counter(negative_tokens)\n",
    "\n",
    "# Display top positive and negative keywords\n",
    "print(\"Top Positive Keywords:\")\n",
    "for word, freq in positive_freq.most_common(10):\n",
    "    print(f\"{word}: {freq}\")\n",
    "\n",
    "print(\"\\nTop Negative Keywords:\")\n",
    "for word, freq in negative_freq.most_common(10):\n",
    "    print(f\"{word}: {freq}\")\n"
   ]
  },
  {
   "cell_type": "code",
   "execution_count": 5,
   "id": "239b5755",
   "metadata": {
    "scrolled": true
   },
   "outputs": [
    {
     "name": "stdout",
     "output_type": "stream",
     "text": [
      "Top Positive Keywords:\n",
      "('good', 'sound', 'quality'): 6\n",
      "('stars', 'great', 'sound'): 6\n",
      "('stars', 'good', 'product'): 5\n",
      "('stars', 'works', 'great'): 5\n",
      "('stars', 'great', 'product'): 5\n",
      "('stars', 'great', 'gift'): 4\n",
      "('stars', 'good', 'value'): 4\n",
      "('nice', 'gift', 'stars'): 3\n",
      "('cell', 'phone', 'stand'): 3\n",
      "('father', 'day', 'gift'): 3\n",
      "\n",
      "Top Negative Keywords:\n",
      "('waste', 'money', 'stars'): 7\n",
      "('stars', 'stopped', 'working'): 7\n",
      "('stopped', 'working', 'months'): 6\n",
      "('worth', 'money', 'stars'): 3\n",
      "('cell', 'phone', 'stand'): 3\n",
      "('speaker', 'stopped', 'working'): 3\n",
      "('poor', 'sound', 'quality'): 3\n",
      "('loud', 'enough', 'stars'): 2\n",
      "('stars', 'good', 'good'): 2\n",
      "('phone', 'stars', 'sound'): 2\n"
     ]
    }
   ],
   "source": [
    "from nltk.util import ngrams\n",
    "from nltk.corpus import stopwords\n",
    "from collections import Counter\n",
    "\n",
    "# Function to process reviews\n",
    "def process_reviews(reviews, n=1):\n",
    "    tokens = [word.lower() for review in reviews for word in word_tokenize(str(review)) if word.isalpha()]\n",
    "    filtered_tokens = [word for word in tokens if word not in stopwords.words('english')]\n",
    "    n_grams = list(ngrams(filtered_tokens, n))\n",
    "    return n_grams\n",
    "\n",
    "# Process positive and negative reviews\n",
    "positive_tokens = process_reviews(positive_reviews, n=3)  # Change n to the desired n-gram size\n",
    "negative_tokens = process_reviews(negative_reviews, n=3)  # Change n to the desired n-gram size\n",
    "\n",
    "# Frequency analysis\n",
    "positive_freq = Counter(positive_tokens)\n",
    "negative_freq = Counter(negative_tokens)\n",
    "\n",
    "# Display top positive and negative keywords\n",
    "print(\"Top Positive Keywords:\")\n",
    "for word, freq in positive_freq.most_common(10):\n",
    "    print(f\"{word}: {freq}\")\n",
    "\n",
    "print(\"\\nTop Negative Keywords:\")\n",
    "for word, freq in negative_freq.most_common(10):\n",
    "    print(f\"{word}: {freq}\")\n"
   ]
  },
  {
   "cell_type": "markdown",
   "id": "3e674cf0",
   "metadata": {},
   "source": [
    "## Including Stopwords"
   ]
  },
  {
   "cell_type": "code",
   "execution_count": 6,
   "id": "b9af428a",
   "metadata": {},
   "outputs": [
    {
     "name": "stdout",
     "output_type": "stream",
     "text": [
      "Top Positive Keywords:\n",
      "('for', 'the', 'price'): 16\n",
      "('as', 'a', 'gift'): 14\n",
      "('this', 'for', 'my'): 12\n",
      "('easy', 'to', 'use'): 11\n",
      "('i', 'bought', 'this'): 11\n",
      "('the', 'sound', 'is'): 10\n",
      "('for', 'my', 'husband'): 10\n",
      "('this', 'was', 'a'): 9\n",
      "('gift', 'for', 'my'): 9\n",
      "('bought', 'this', 'for'): 9\n",
      "('in', 'the', 'kitchen'): 9\n",
      "('this', 'as', 'a'): 9\n",
      "('a', 'gift', 'for'): 9\n",
      "('the', 'sound', 'quality'): 8\n",
      "('this', 'is', 'a'): 7\n",
      "('i', 'use', 'it'): 7\n",
      "('he', 'loves', 'it'): 7\n",
      "('use', 'it', 'for'): 6\n",
      "('stars', 'great', 'for'): 6\n",
      "('sound', 'quality', 'is'): 6\n",
      "\n",
      "Top Negative Keywords:\n",
      "('waste', 'of', 'money'): 9\n",
      "('stopped', 'working', 'after'): 9\n",
      "('it', 'stopped', 'working'): 7\n",
      "('doesn', 't', 'work'): 6\n",
      "('not', 'worth', 'it'): 6\n",
      "('working', 'after', 'months'): 6\n",
      "('stars', 'stopped', 'working'): 6\n",
      "('it', 'doesn', 't'): 5\n",
      "('worth', 'the', 'money'): 5\n",
      "('of', 'money', 'stars'): 5\n",
      "('to', 'use', 'it'): 5\n",
      "('will', 'not', 'pair'): 5\n",
      "('not', 'worth', 'the'): 4\n",
      "('to', 'listen', 'to'): 4\n",
      "('it', 'would', 'be'): 4\n",
      "('as', 'loud', 'as'): 4\n",
      "('to', 'return', 'it'): 4\n",
      "('not', 'pair', 'with'): 4\n",
      "('pair', 'with', 'my'): 4\n",
      "('i', 'have', 'no'): 4\n"
     ]
    }
   ],
   "source": [
    "from nltk.util import ngrams\n",
    "from nltk.tokenize import word_tokenize\n",
    "from collections import Counter\n",
    "\n",
    "\n",
    "# Function to process reviews\n",
    "def process_reviews(reviews, n=1):\n",
    "    tokens = [word.lower() for review in reviews for word in word_tokenize(str(review)) if word.isalpha()]\n",
    "    n_grams = list(ngrams(tokens, n))\n",
    "    return n_grams\n",
    "\n",
    "# Process positive and negative reviews\n",
    "positive_tokens = process_reviews(positive_reviews, n=3)  # Change n to the desired n-gram size\n",
    "negative_tokens = process_reviews(negative_reviews, n=3)  # Change n to the desired n-gram size\n",
    "\n",
    "# Frequency analysis\n",
    "positive_freq = Counter(positive_tokens)\n",
    "negative_freq = Counter(negative_tokens)\n",
    "\n",
    "# Display top positive and negative keywords\n",
    "print(\"Top Positive Keywords:\")\n",
    "for word, freq in positive_freq.most_common(20):\n",
    "    print(f\"{word}: {freq}\")\n",
    "\n",
    "print(\"\\nTop Negative Keywords:\")\n",
    "for word, freq in negative_freq.most_common(20):\n",
    "    print(f\"{word}: {freq}\")\n"
   ]
  }
 ],
 "metadata": {
  "kernelspec": {
   "display_name": "Python 3 (ipykernel)",
   "language": "python",
   "name": "python3"
  },
  "language_info": {
   "codemirror_mode": {
    "name": "ipython",
    "version": 3
   },
   "file_extension": ".py",
   "mimetype": "text/x-python",
   "name": "python",
   "nbconvert_exporter": "python",
   "pygments_lexer": "ipython3",
   "version": "3.11.5"
  }
 },
 "nbformat": 4,
 "nbformat_minor": 5
}
